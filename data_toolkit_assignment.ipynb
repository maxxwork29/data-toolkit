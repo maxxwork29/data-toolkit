{
  "nbformat": 4,
  "nbformat_minor": 0,
  "metadata": {
    "colab": {
      "provenance": []
    },
    "kernelspec": {
      "name": "python3",
      "display_name": "Python 3"
    },
    "language_info": {
      "name": "python"
    }
  },
  "cells": [
    {
      "cell_type": "markdown",
      "source": [
        "1. What is NumPy, and why is it widely used in Python)?\n",
        "\n",
        "-  NumPy is a fundamental, open-source Python library used for scientific computing and numerical analysis, providing a powerful n-dimensional array object and a wide range of high-level mathematical functions. It is widely used because it enables fast, memory-efficient computations on large datasets, far exceeding the performance of standard Python lists.\n",
        "\n",
        "Key Features of NumPy\n",
        "NumPy's main feature is the ndarray, a fast, flexible n-dimensional array for homogeneous data, which allows efficient manipulation and storage.\n",
        "\n",
        "Built-in mathematical, logical, linear algebra, and statistical operations accelerate computation tasks, reducing the need for explicit loops and making code more concise.\n",
        "\n",
        "Its broadcasting and vectorization capabilities allow operations across arrays of different shapes, automatically aligning data for element-wise operations.\n",
        "\n",
        "The core code of NumPy is implemented in C and Fortran, ensuring high-speed performance for intensive calculations.\n",
        "\n",
        "Why NumPy Is Widely Used\n",
        "NumPy is the backbone of the scientific Python ecosystem, forming the foundation for popular libraries like Pandas, SciPy, Scikit-learn, and Matplotlib.\n",
        "\n",
        "Common use cases include data analysis, machine learning, signal and image processing, simulations, and any application requiring fast numerical computations.\n",
        "\n",
        "Its arrays use less memory and allow streamlined mathematical operations compared to Python lists, owing to memory contiguity and type homogeneity.\n"
      ],
      "metadata": {
        "id": "mM-XOXNhNwxv"
      }
    },
    {
      "cell_type": "markdown",
      "source": [
        "2. How does broadcasting work in NumPy?\n",
        "\n",
        "- Broadcasting in NumPy is a mechanism that allows arrays of different shapes to be used together in arithmetic operations efficiently, automatically expanding the smaller array(s) so their shapes are compatible for element-wise operations.\n",
        "\n",
        "How Broadcasting Works\n",
        "When performing operations, NumPy compares array shapes starting from their trailing (rightmost) dimensions moving left.\n",
        "\n",
        "Two dimensions are compatible if they are equal or one of them is 1; if not, NumPy raises a ValueError for incompatible shapes.\n",
        "\n",
        "The smaller array is conceptually replicated (broadcasted) across the larger array's shape, allowing element-wise calculation without explicitly copying data, which is memory efficient.\n",
        "\n",
        "Broadcasting Rules\n",
        "If arrays differ in their number of dimensions, the shape of the one with fewer dimensions is padded with ones on its leading side.\n",
        "\n",
        "When shapes do not match in a dimension, the array with length 1 in that dimension is stretched to match the other shape.\n",
        "\n",
        "If a dimension disagrees and neither is 1, broadcasting cannot occur, and an error is raised.\n",
        "\n",
        "Example\n",
        "Suppose you have a 1-D array and a 2-D array:\n",
        "\n",
        "python\n",
        "import numpy as np\n",
        "array1 = np.array([1, 2, 3])\n",
        "array2 = np.array([[1], [2], [3]])\n",
        "result = array1 + array2\n",
        "Here, array1 (shape (3,)) is broadcasted to match array2 (shape (3, 1)), resulting in a (3, 3) array via element-wise addition.\n",
        "\n",
        "Broadcasting is essential because it enables concise, readable, and efficient code for operations on arrays of differing dimensions without the need for explicit loops or manual resizing"
      ],
      "metadata": {
        "id": "vJv3mnEmNwzf"
      }
    },
    {
      "cell_type": "markdown",
      "source": [
        "3. What is a Pandas DataFrame)\n",
        "\n",
        "- A Pandas DataFrame is a two-dimensional, tabular data structure in Python made up of rows and columns, similar to a spreadsheet or table in a relational database. Each column in a DataFrame can store data of different types (numeric, textual, date, etc.), making it highly flexible for handling heterogeneous data.\n",
        "\n",
        "Features of a Pandas DataFrame\n",
        "DataFrames have labeled axes: the rows are indexed (labeled), and the columns have names that identify each variable.\n",
        "\n",
        "They can be created from various data sources, including lists, dictionaries, NumPy arrays, CSV files, Excel files, databases, and more.\n",
        "\n",
        "DataFrames support a wide range of data manipulation operations such as selection, filtering, aggregation, merging, reshaping, and cleaning of data.\n",
        "\n",
        "They provide built-in methods for handling missing data, grouping, statistical analysis, and exporting/importing data in multiple formats.\n",
        "\n",
        "Common Use Cases\n",
        "Cleaning and organizing data for analysis and visualization.\n",
        "\n",
        "Performing statistical computations on structured datasets.\n",
        "\n",
        "Importing, transforming, and exporting tabular data to and from various file formats and databases.\n",
        "\n",
        "Powering Python-based solutions in fields such as finance, data science, machine learning, and scientific research.\n",
        "\n",
        "In summary, the Pandas DataFrame is a core structure for data analysis in Python, designed for efficient, flexible manipulation and exploration of tabular data."
      ],
      "metadata": {
        "id": "XmFcnpZaNw3G"
      }
    },
    {
      "cell_type": "markdown",
      "source": [
        "4. Explain the use of the groupby() method in Pandas.\n",
        "\n",
        "- The groupby() method in Pandas is a versatile tool for splitting a DataFrame into groups based on the values in one or more columns, then applying calculations or transformations to each group, and finally combining the results.\n",
        "\n",
        "How groupby() Works\n",
        "The core concept is the \"split-apply-combine\" strategy:\n",
        "\n",
        "Split: The DataFrame is divided into groups defined by unique values in specific columns.\n",
        "\n",
        "Apply: An operation or aggregation (like sum, mean, count, or custom functions) is applied independently to each group.\n",
        "\n",
        "Combine: The results from each group are merged and returned as a new DataFrame or Series.\n",
        "\n",
        "Common Usage Examples\n",
        "Calculating totals, averages, or counts for each category in a column (e.g., total sales per product).\n",
        "\n",
        "Applying transformations or filters to groups, such as normalizing values or selecting groups that meet certain criteria.\n",
        "\n",
        "Combining results for analysis, visualization, or further processing.\n",
        "\n",
        "Practical Example\n",
        "If you have a DataFrame df with sales data:\n",
        "\n",
        "python\n",
        "import pandas as pd\n",
        "df = pd.DataFrame({'category': ['A', 'B', 'A', 'B'], 'sales': [100, 200, 150, 120]})\n",
        "grouped = df.groupby('category')\n",
        "print(grouped['sales'].sum())\n",
        "This code will output the total sales for each category, illustrating the typical usage of groupby() for aggregation.\n",
        "\n",
        "In summary, groupby() is essential for analyzing, summarizing, and transforming segmented data, making it a cornerstone method in Pandas-based data analysis workflows."
      ],
      "metadata": {
        "id": "ebysC3q2Nw4m"
      }
    },
    {
      "cell_type": "markdown",
      "source": [
        "5. Why is Seaborn preferred for statistical visualizations?\n",
        "\n",
        "-  Seaborn is preferred for statistical visualizations because it provides a high-level interface built on top of Matplotlib, designed specifically to simplify the creation of attractive and informative statistical graphics with minimal code effort.\n",
        "\n",
        "Reasons for Preferring Seaborn\n",
        "Built-in Themes and Color Palettes: Seaborn comes with aesthetically pleasing default styles and color schemes, enhancing the visual appeal of plots without requiring extensive customization.\n",
        "\n",
        "Specialized Statistical Plots: It offers advanced visualizations such as violin plots, heatmaps, box plots, and cluster maps that are not readily available in Matplotlib or require more complex code.\n",
        "\n",
        "Integration with Pandas: Seaborn works seamlessly with Pandas DataFrames, allowing users to plot directly from structured data, which simplifies data exploration and analysis.\n",
        "\n",
        "Simplified Syntax: Its functions have more concise and intuitive syntax compared to Matplotlib, making it easier for users to generate complex statistical graphs quickly.\n",
        "\n",
        "Automated Handling of Plot Details: Seaborn automatically manages aspects like axis labels, legends, and data grouping, reducing boilerplate code and potential errors.\n",
        "\n",
        "In summary, Seaborn's combination of ease of use, beautiful default styles, and specialized statistical plotting capabilities makes it the preferred choice for many data scientists and analysts focusing on statistical visualizations."
      ],
      "metadata": {
        "id": "ZK-BXcVpNw8T"
      }
    },
    {
      "cell_type": "markdown",
      "source": [
        "6. What are the differences between NumPy arrays and Python lists?\n",
        "\n",
        "- NumPy arrays and Python lists differ significantly in structure, performance, and use cases.\n",
        "\n",
        "Key Differences\n",
        "Data Type Homogeneity: NumPy arrays require all elements to be of the same data type (homogeneous), which allows them to be stored efficiently. Python lists can store heterogeneous data types, providing flexibility but less efficiency.\n",
        "\n",
        "Memory Storage: NumPy arrays store elements contiguously in memory, which reduces overhead and fragmentation, making access fast and efficient. Python lists store references to objects, which are scattered in memory, leading to more overhead and slower access.\n",
        "\n",
        "Performance: NumPy arrays facilitate fast mathematical operations and element-wise computations implemented in low-level languages like C, offering significant speed improvements over Python lists, which have slower performance due to Python's interpreted nature and more complex data structures.\n",
        "\n",
        "Functionality: NumPy provides a broad range of optimized mathematical, statistical, and linear algebra functions that work directly on arrays, enabling concise and efficient code for numerical processing. Python lists lack these specialized capabilities and require more manual implementation for such operations.\n",
        "\n",
        "Use Cases: Python lists are ideal for general-purpose programming where flexibility in data types and structure is essential. NumPy arrays are preferred for scientific computing, data analysis, and machine learning tasks involving large datasets and intensive numerical calculations.\n"
      ],
      "metadata": {
        "id": "GEiSnPW_Nw9w"
      }
    },
    {
      "cell_type": "markdown",
      "source": [
        "7. What is a heatmap, and when should it be used?\n",
        "\n",
        "- A heatmap is a two-dimensional data visualization technique that uses colors to represent the magnitude of values within a dataset arranged in a grid or matrix format. Each cell's color intensity corresponds to the data value it represents, with warm colors like red often indicating higher values and cool colors like blue representing lower values. This makes it easy to quickly identify patterns, trends, correlations, and anomalies in large or complex data.\n",
        "\n",
        "When to Use Heatmaps\n",
        "Heatmaps are ideal for visualizing continuous or discrete numerical data where relationships between two dimensions or variables need to be understood at a glance.\n",
        "\n",
        "They excel at displaying correlation matrices, helping detect strong or weak correlations among variables quickly.\n",
        "\n",
        "Useful for identifying clusters or areas of intensity, like user engagement on a webpage, gene expression data, or spatial data like population density or weather patterns.\n",
        "\n",
        "Heatmaps aid in exploratory data analysis, especially when examining large datasets to detect patterns that might not be obvious in raw tabular data.\n",
        "\n",
        "In summary, heatmaps are graphical tools that leverage color to intuitively convey complex numerical data patterns, making them invaluable for various fields like statistics, biology, web analytics, and geography.\n"
      ],
      "metadata": {
        "id": "va5w80TnNxBp"
      }
    },
    {
      "cell_type": "markdown",
      "source": [
        "8. What does the term “vectorized operation” mean in NumPy?\n",
        "\n",
        "- A \"vectorized operation\" in NumPy refers to performing element-wise operations on entire arrays without explicit loops in Python. Instead of iterating over each element one by one, NumPy applies operations simultaneously over the whole array using optimized, low-level C code, which results in much faster and more efficient computations.\n",
        "\n",
        "Key Points about Vectorized Operations\n",
        "Vectorization eliminates the need for explicit Python for-loops by leveraging precompiled code, which significantly improves performance.\n",
        "\n",
        "It allows you to perform mathematical, logical, or comparison operations on arrays as a whole, operating on corresponding elements in parallel.\n",
        "\n",
        "For example, adding two arrays or adding a scalar to all elements of an array can be done directly with simple syntax like array1 + array2 or array + scalar without loops.\n",
        "\n",
        "Vectorization also works with broadcasting, which handles array operations with differing shapes automatically.\n",
        "\n",
        "Benefits\n",
        "Safer and simpler code that is easier to read and write.\n",
        "\n",
        "Much faster execution because computations are done in optimized code.\n",
        "\n",
        "Essential for handling large datasets efficiently in scientific and numerical computing.\n",
        "\n",
        "In summary, vectorized operations make NumPy powerful for numerical tasks by enabling concise and highly performant array computations.\n",
        "\n"
      ],
      "metadata": {
        "id": "dQqwpkEnNxDK"
      }
    },
    {
      "cell_type": "markdown",
      "source": [
        "9. How does Matplotlib differ from Plotly?\n",
        "\n",
        "- Matplotlib and Plotly are both popular Python libraries for data visualization, but they have key differences in focus, functionality, and typical use cases.\n",
        "\n",
        "Main Differences\n",
        "Interactivity: Matplotlib primarily creates static plots suitable for academic papers, reports, and static images. While some interactivity is possible in Jupyter notebooks, it is limited compared to Plotly. Plotly, on the other hand, generates interactive visualizations by default, including features like zooming, panning, hover tooltips, and toggling legend entries.\n",
        "\n",
        "Ease of Use and Aesthetics: Plotly produces polished, attractive visualizations with minimal code, making it suitable for dashboards and web apps. Matplotlib offers fine-grained customization but often requires more effort to make plots visually appealing.\n",
        "\n",
        "Integration: Plotly integrates seamlessly with Python web dashboard frameworks like Dash, enabling the creation of rich interactive data applications without JavaScript knowledge. Matplotlib integrates well with scientific Python tools but lacks built-in dashboard capabilities.\n",
        "\n",
        "Use Cases: Matplotlib is preferred for static, publication-quality figures and detailed control over plot components. Plotly is better suited for exploratory data analysis, interactive reports, and dashboards where user engagement is important.\n",
        "\n",
        "Learning Curve: Matplotlib has a steeper learning curve for complex plots due to its imperative style, while Plotly's syntax is more concise for interactive visualizations though advanced customizations can be complex.\n"
      ],
      "metadata": {
        "id": "oYNevYTcNxHv"
      }
    },
    {
      "cell_type": "markdown",
      "source": [
        "10. What is the significance of hierarchical indexing in Pandas?\n",
        "\n",
        "- Hierarchical indexing in Pandas, also known as MultiIndexing, allows a DataFrame or Series to have multiple index levels or dimensions, enabling more complex data organization and retrieval. This means rows and columns can be indexed by multiple keys in a nested structure, which is useful for representing higher-dimensional data in a 2D table format.​\n",
        "\n",
        "Significance of Hierarchical Indexing\n",
        "Efficient Data Representation: It reduces redundancy by grouping related data under shared index levels, making large datasets with repeated labels more compact and easier to understand.​\n",
        "\n",
        "Advanced Data Selection: Hierarchical indexes enable powerful, flexible data slicing, allowing you to access subsets of data at various levels of the hierarchy using concise syntax (e.g., .loc with tuples).​\n",
        "\n",
        "Complex Grouping and Aggregation: It facilitates grouping operations and pivot-like behavior directly on multiple keys, making data analysis more intuitive and efficient.​\n",
        "\n",
        "Seamless Handling of Multi-dimensional Data: It allows Pandas to represent and manipulate data with multiple dimensions (e.g., time-series data across locations and categories) in a flat table format without losing the multi-level structure.​\n",
        "\n",
        "Practical Benefits\n",
        "Querying data by partial indices (e.g., all data for a state regardless of city).\n",
        "\n",
        "Simplified reshaping and pivoting of complex datasets.\n",
        "\n",
        "Enhanced performance for multi-level indexing operations compared to handling multiple separate indexes.\n",
        "\n",
        "In short, hierarchical indexing empowers Pandas users to work with complex datasets flexibly and efficiently by providing multi-level, structured indexing and advanced data queries.\n"
      ],
      "metadata": {
        "id": "72pxTahXNxS2"
      }
    },
    {
      "cell_type": "markdown",
      "source": [],
      "metadata": {
        "id": "q2U79WtRNxVe"
      }
    },
    {
      "cell_type": "markdown",
      "source": [
        "s11. What is the role of Seaborn’s pairplot() function?\n",
        "\n",
        "\n",
        "- The Seaborn pairplot() function is used for visualizing pairwise relationships between multiple numeric variables in a dataset by creating a matrix of scatterplots. Each subplot in the matrix shows the relationship between two variables, and the diagonal plots display the distribution (often as histograms) of each individual variable.​\n",
        "\n",
        "Role and Use of pairplot()\n",
        "It helps in understanding correlations, trends, and patterns between pairs of variables across the dataset.\n",
        "\n",
        "The function visualizes all variable combinations, making it a powerful exploratory data analysis tool for getting a comprehensive overview in a single figure.\n",
        "\n",
        "pairplot() can color-code points by a categorical variable (using the hue parameter), aiding in visual separation of groups within the data.\n",
        "\n",
        "It's especially useful when working with datasets containing multiple numeric features, like the classic iris or tips datasets, for spotting linear or nonlinear relationships easily.​\n",
        "\n",
        "It simplifies inspecting variable distributions, outliers, and potential clusters across the data by summarizing the information graphically.​\n",
        "\n",
        "In summary, Seaborn's pairplot() function is an essential visualization tool to explore and summarize the relationships between many variables in a dataset efficiently and intuitively through a grid of scatterplots and histograms"
      ],
      "metadata": {
        "id": "uRfbN88sNxX8"
      }
    },
    {
      "cell_type": "markdown",
      "source": [
        "12. What is the purpose of the describe() function in Pandas?\n",
        "\n",
        "- The describe() function in Pandas provides a quick summary of the key statistical metrics of a DataFrame or Series, helping users understand the distribution, central tendency, and spread of the data.​\n",
        "\n",
        "Purpose of describe()\n",
        "For numeric data, it calculates important statistics such as count, mean, standard deviation, minimum, maximum, and percentiles (25th, 50th, 75th by default).​\n",
        "\n",
        "For categorical (object/string) data, it returns the count, number of unique values, the most frequent value (top), and its frequency (freq).​\n",
        "\n",
        "When to Use describe()\n",
        "Exploratory Data Analysis (EDA): To gain a quick high-level overview of data distribution and detect anomalies or skewness.\n",
        "\n",
        "Data Cleaning: To identify missing values (count less than total row count), outliers, or unexpected data distributions.\n",
        "\n",
        "Summary Reports: For generating concise statistical summaries for reports or dashboards.\n",
        "\n",
        "Understanding Data Types: When combined with include='all', it summarizes all data types in a DataFrame, both numeric and categorical.​\n",
        "\n",
        "Example Use Cases\n",
        "Summarizing sales data to see the average, min, and max values.​\n",
        "\n",
        "Inspecting categorical variables like product categories or customer segments.​\n",
        "\n",
        "In summary, describe() is an essential pandas function for performing initial data exploration, summarizing, and gaining insights into the distribution and characteristics of both numeric and categorical data."
      ],
      "metadata": {
        "id": "1cG7aLm5NxaY"
      }
    },
    {
      "cell_type": "markdown",
      "source": [
        "13. Why is handling missing data important in Pandas?\n",
        "\n",
        "- Handling missing data in Pandas is crucial because missing values can significantly affect the accuracy, reliability, and validity of data analysis and machine learning models.​\n",
        "\n",
        "Importance of Handling Missing Data\n",
        "Preventing Skewed Analysis: Missing data can skew the results, leading to biased interpretations or incorrect insights, undermining the effectiveness of data-driven decisions.​\n",
        "\n",
        "Maintaining Model Accuracy: Machine learning algorithms often require complete datasets. Ignoring missing values can reduce model accuracy or cause errors during training.​\n",
        "\n",
        "Preserving Statistical Power: Proper handling ensures that the sample size remains adequate for reliable statistical inference, rather than discarding valuable data unnecessarily.​\n",
        "\n",
        "Avoiding Bias: Missing data might not be random. Effective handling methods prevent systematic bias, maintaining the representativeness of the dataset.​\n",
        "\n",
        "Data Integrity and Cleaning: Identifying and addressing missing values is a key step in data preprocessing to ensure datasets are clean, consistent, and analysis-ready.​\n",
        "\n",
        "Methods Available in Pandas\n",
        "Pandas offers functions like isnull() and dropna() for detecting and removing missing data, and fillna() for imputing missing values with appropriate substitutes like mean or median, enabling flexible strategies based on context.​\n",
        "\n",
        "In summary, handling missing data is essential in Pandas for obtaining trustworthy, accurate, and meaningful analysis results, ultimately improving model performance and decision-making."
      ],
      "metadata": {
        "id": "6zmIXz1LNxc0"
      }
    },
    {
      "cell_type": "markdown",
      "source": [
        "14. What are the benefits of using Plotly for data visualization?\n",
        "\n",
        "-  Plotly offers significant benefits for data visualization, making it a preferred tool for many data scientists and analysts.\n",
        "\n",
        "Key Benefits of Using Plotly\n",
        "Interactivity: Plotly creates interactive plots that allow users to zoom, pan, hover for detailed information, and toggle data series on and off, providing an engaging exploration experience that static plots cannot match.​\n",
        "\n",
        "Ease of Integration: It works seamlessly within Python environments such as Jupyter Notebooks, and integrates well with web applications and dashboards via frameworks like Dash, enabling real-time data interaction.​\n",
        "\n",
        "Wide Variety of Chart Types: Plotly supports many chart types, from basic line and bar charts to more complex 3D and geospatial visualizations, catering to diverse data visualization needs.​\n",
        "\n",
        "Aesthetically Pleasing: It produces publication-quality visuals with polished color schemes, layouts, and annotations by default, reducing time spent on customization.​\n",
        "\n",
        "Cross-language Support: Besides Python, Plotly supports languages like R, Julia, and JavaScript, making it versatile across platforms and ecosystems.​\n",
        "\n",
        "Real-world Applications: Plotly is used in numerous domains such as finance, healthcare, climate science, education, and business analytics, demonstrating its flexibility and power for data-driven decision-making.​\n",
        "\n",
        "Overall, Plotly’s combination of interactivity, ease of use, and rich visualization options makes it a powerful tool to transform raw data into insightful, dynamic, and shareable visuals."
      ],
      "metadata": {
        "id": "KqBTkixfNxfE"
      }
    },
    {
      "cell_type": "markdown",
      "source": [
        "15. A How does NumPy handle multidimensional arrays?\n",
        "\n",
        "- NumPy handles multidimensional arrays through its powerful n-dimensional array object called ndarray. These arrays can have two or more dimensions, such as matrices or higher-dimensional structures, and are created using functions like np.array() with nested lists or arrays.​\n",
        "\n",
        "How NumPy Manages Multidimensional Arrays\n",
        "Creation: You create multi-dimensional arrays by passing nested lists to np.array(), where each inner list corresponds to one row or higher dimensional slice. Functions like np.zeros(), np.ones(), and np.random.rand() help generate arrays of specific shapes.​\n",
        "\n",
        "Indexing & Slicing: You access elements with multi-index notation [i, j, k, ...], where each index corresponds to a dimension. You can also slice arrays along specific axes using arr[i:j, k:l] syntax.​\n",
        "\n",
        "Broadcasting & Operations: NumPy performs element-wise operations across different dimensions automatically, facilitating complex mathematical computations without explicit looping.​\n",
        "\n",
        "Dimension Reduction: You can omit later indices to reduce dimensions, and assign scalars or arrays directly to sections of higher-dimensional arrays, enabling flexible data manipulation."
      ],
      "metadata": {
        "id": "lOVMpeB2Nxhd"
      }
    },
    {
      "cell_type": "markdown",
      "source": [
        "16. What is the role of Bokeh in data visualization?\n",
        "\n",
        "- Bokeh is a powerful Python data visualization library designed to create interactive and high-performance plots and dashboards that can be rendered in web browsers using HTML and JavaScript.​\n",
        "\n",
        "Role of Bokeh in Data Visualization\n",
        "Interactivity: Bokeh excels in generating interactive plots that respond dynamically to user inputs, such as zooming, panning, selecting, and hovering, which greatly enhances data exploration and insight generation compared to static plots.​\n",
        "\n",
        "Web Integration: Its visualizations are easily embeddable in web applications built with frameworks like Flask and Django, enabling integration into dashboards and web interfaces seamlessly.​\n",
        "\n",
        "Flexibility: Bokeh provides both high-level plotting interfaces suitable for quick plot creation and low-level interfaces that allow fine-grained control, catering to simple and complex visualization needs.​\n",
        "\n",
        "Compatibility: It works well alongside popular Python data science tools such as Pandas and Jupyter Notebooks, facilitating smooth workflows for data analysis and presentation.​\n",
        "\n",
        "Customization: Users can add custom JavaScript callbacks for advanced interactive behaviors beyond standard features, making it a versatile tool for specialized visualization requirements.​\n",
        "\n",
        "Open Source and Shareability: Bokeh plots are open source, sharable, and can be output as standalone HTML files or embedded in notebooks, promoting easy distribution and collaboration.​\n",
        "\n",
        "In summary, Bokeh’s role is to empower Python users to create rich, interactive, and web-ready visualizations that enhance data exploration, presentation, and application integration beyond static plotting capabilities."
      ],
      "metadata": {
        "id": "Qq2awKEoNxkL"
      }
    },
    {
      "cell_type": "markdown",
      "source": [
        "17. Explain the difference between apply() and map() in Pandas.\n",
        "\n",
        "-  The key differences between apply() and map() in Pandas revolve around their scope, usage, and type of operations they perform:\n",
        "\n",
        "map() is defined only for Series objects and is used for element-wise transformations, applying a function, dictionary, or Series to each element independently. It is ideal for simple mapping or replacing values, like converting categories or scaling values.​\n",
        "\n",
        "apply() is more versatile and can be used on both Series and DataFrames. For Series, it acts element-wise like map(), but for DataFrames, apply() can operate along rows or columns (specified by the axis parameter), allowing complex functions and aggregations across entire rows or columns, not just individual elements.​\n",
        "\n",
        "apply() accepts only functions as input, while map() can also accept dictionaries or Series for value mappings.​\n",
        "\n",
        "map() is generally faster for simple element-wise operations on Series, while apply() allows more flexible and complex operations but can be slower.​\n",
        "\n",
        "For element-wise operations on all DataFrame elements, Pandas provides applymap(), which is different from both map() and apply().​\n",
        "\n",
        "In summary, use map() for simple, element-wise transformations on Series, and use apply() for more complex row-wise or column-wise computations on DataFrames or more intricate element-wise Series operations.​\n",
        "\n",
        "\n"
      ],
      "metadata": {
        "id": "gTKZp059Nxmk"
      }
    },
    {
      "cell_type": "markdown",
      "source": [
        "18. What are some advanced features of NumPy?\n",
        "\n",
        "- advanced features of NumPy that make it powerful and versatile for scientific computing and data analysis include:\n",
        "\n",
        "N-Dimensional Arrays (ndarray): NumPy provides efficient support for arrays with an arbitrary number of dimensions, facilitating complex data representation and computation beyond just 1D or 2D structures.​\n",
        "\n",
        "Vectorized Operations and Broadcasting: NumPy enables element-wise operations on arrays of different shapes without explicit looping, thanks to broadcasting rules, resulting in concise and high-performance code.​\n",
        "\n",
        "Universal Functions (ufuncs): Built-in fast element-wise mathematical functions like sin, cos, exp, sqrt, etc., operate efficiently on entire arrays, accelerating complex computations.​\n",
        "\n",
        "Advanced Indexing and Slicing: Powerful indexing mechanisms including boolean indexing, fancy indexing, and multi-dimensional slicing allow selective data extraction and manipulation.​\n",
        "\n",
        "Linear Algebra Routines: Includes matrix multiplication, inversion, eigenvalues, and determinants essential for scientific and engineering applications.​\n",
        "\n",
        "Random Number Generation: Extensive random module supporting various distributions (normal, binomial, Poisson) for simulations and probabilistic modeling.​\n",
        "\n",
        "Fourier Transform Functions: Efficient computation of Fourier transforms useful in signal and image processing.​\n",
        "\n",
        "Interoperability: Seamless integration with other Python libraries such as SciPy, Pandas, Matplotlib, and scikit-learn, forming the backbone of the scientific Python ecosystem.​\n",
        "\n",
        "Memory Efficiency and Performance: NumPy arrays use contiguous memory blocks optimized for speed, with core computational routines implemented in C and Fortran, enabling fast execution.​\n",
        "\n",
        "These features collectively empower users to handle large datasets, perform complex numerical computations, and develop scientific applications efficiently within Python."
      ],
      "metadata": {
        "id": "VN0lXvI_NxpR"
      }
    },
    {
      "cell_type": "markdown",
      "source": [
        "19.  How does Pandas simplify time series analysis?\n",
        "\n",
        "\n",
        "-  Pandas simplifies time series analysis by providing specialized data structures and functions tailored for handling and analyzing time-indexed data efficiently.​\n",
        "\n",
        "Key Ways Pandas Simplifies Time Series Analysis\n",
        "Datetime Indexing: Pandas supports DatetimeIndex which allows slicing, filtering, and selecting data based on date and time components with intuitive syntax, making data access straightforward.​\n",
        "\n",
        "Date Range Generation: Functions like date_range() enable easy creation of regular time intervals for indexing or time series construction.​\n",
        "\n",
        "Resampling and Frequency Conversion: Pandas makes it easy to change the frequency of time series data (e.g., from daily to monthly), aggregating or interpolating values accordingly.​\n",
        "\n",
        "Rolling and Window Functions: Built-in methods like rolling averages or moving sums facilitate smoothing and trend analysis of time series without manual computations.​\n",
        "\n",
        "Time-aware Calculations: Pandas supports shifting, lagging, and differences to compute lead/lag features critical for forecasting and causal analysis.​\n",
        "\n",
        "Integration with Visualization: Pandas data integrates seamlessly with plotting libraries (Matplotlib, Seaborn) for quick visualization of temporal patterns and trends.​\n",
        "\n",
        "Handling Time Zones and Frequencies: Built-in support for timezone-aware timestamps and complex frequency aliases facilitates working across different time zones and irregular time intervals.​\n",
        "\n",
        "In summary, Pandas offers a comprehensive and user-friendly toolkit to manage, analyze, and visualize time series data, dramatically reducing the complexity and code required for typical time series workflows.​"
      ],
      "metadata": {
        "id": "CDR2yWquNxrt"
      }
    },
    {
      "cell_type": "markdown",
      "source": [
        "20. What is the role of a pivot table in Pandas?\n",
        "\n",
        "- A pivot table in Pandas is a powerful data analysis tool used to summarize, aggregate, and reshape large datasets by transforming unique values from one column into multiple columns, rearranging the data from a \"long\" format into a \"wide\" format.​\n",
        "\n",
        "Role and Purpose of Pivot Tables\n",
        "Data Aggregation: It allows grouping of data by one or more keys (specified as the index or columns) and applies aggregation functions like mean, sum, or count on the grouped data, enabling concise summaries.​\n",
        "\n",
        "Reshaping Data: Pivot tables transform rows into columns, making it easier to compare different categories side by side, enhancing readability and interpretation.​\n",
        "\n",
        "Handling Large Datasets: Crucial for efficiently analyzing and transforming complex datasets with multiple variables, pivot tables provide structured views that highlight patterns, trends, and relationships.​\n",
        "\n",
        "Flexibility: Users can specify which columns to aggregate, how to handle missing values, and whether to add margins (totals), making pivot tables customizable to diverse analysis needs.​\n",
        "\n",
        "Improves Visualization and Reporting: By organizing data into meaningful summaries, pivot tables facilitate easier charting, reporting, and decision-making processes.​\n",
        "\n",
        "Summary\n",
        "In essence, Pandas pivot tables help manipulate, summarize, and present data in a structured, insightful manner by aggregating and reshaping tabular data efficiently and flexibly."
      ],
      "metadata": {
        "id": "-EMpbbg6NxuW"
      }
    },
    {
      "cell_type": "markdown",
      "source": [
        "21. Why is NumPy’s array slicing faster than Python’s list slicing?\n",
        "\n",
        "- NumPy’s array slicing is faster than Python’s list slicing primarily due to differences in memory layout and internal handling. NumPy arrays store data in contiguous memory blocks with a fixed data type, enabling efficient access and manipulation via low-level, optimized C operations. This contiguity reduces overhead and takes advantage of CPU cache performance. In contrast, Python lists store references to objects which can be scattered in memory, leading to slower access and more overhead during slicing.​\n",
        "\n",
        "When slicing NumPy arrays, no data is copied; instead, a view (a reference to the original data) is created, making slicing an efficient operation in terms of both time and memory. Meanwhile, slicing Python lists involves creating a new list object, copying references, which adds overhead and slows down the operation. NumPy’s slicing mechanisms are thus more memory-efficient and faster for large numerical arrays.​\n",
        "\n",
        "In summary, due to contiguous memory layout, fixed data types, and slicing returning a view rather than a copy, NumPy array slicing is significantly faster and more memory-efficient compared to Python list slicing."
      ],
      "metadata": {
        "id": "YMaGPvfPNxxB"
      }
    },
    {
      "cell_type": "markdown",
      "source": [
        "22. What are some common use cases for Seaborn?\n",
        "\n",
        "- Seaborn is widely used for various data visualization tasks due to its user-friendly interface and powerful statistical plotting capabilities. Some common use cases include:\n",
        "\n",
        "Exploratory Data Analysis (EDA): Seaborn helps visualize data distributions, relationships, and patterns quickly through plots such as histograms, box plots, violin plots, and pair plots. This aids in understanding variable distributions and correlations.​\n",
        "\n",
        "Visualizing Relationships: It excels in showing relationships between variables using scatter plots with regression lines (regplot), joint plots combining scatter and distribution plots, and pair plots for multidimensional comparisons.​\n",
        "\n",
        "Categorical Data Visualization: Seaborn simplifies creating bar plots, count plots, and categorical scatter plots (catplot, barplot, countplot), making it easy to compare groups and categories intuitively.​\n",
        "\n",
        "Statistical Graphics: Built-in support for regression analysis, confidence intervals, and other statistical elements enhance interpretation and insight directly within the visualizations.​\n",
        "\n",
        "Complex Multi-plot Grids: With facet grids and pair plots, users can easily create grids of plots segmented by categorical variables, facilitating comparison across subgroups within a dataset.​\n",
        "\n",
        "Custom Themes and Color Palettes: Seaborn offers well-designed default themes and color palettes, allowing plots to be visually appealing with minimal customization effort.​\n",
        "\n",
        "Overall, Seaborn’s common use cases revolve around creating clear, attractive, and informative statistical visualizations that make data exploration and presentation straightforward and effective.​\n",
        "\n"
      ],
      "metadata": {
        "id": "A-5N5GaZNxzQ"
      }
    },
    {
      "cell_type": "markdown",
      "source": [
        "1. How do you create a 2D NumPy array and calculate the sum of each row?"
      ],
      "metadata": {
        "id": "WoGBb1PqNx1r"
      }
    },
    {
      "cell_type": "code",
      "source": [
        "import numpy as np\n",
        "\n",
        "# Create a 2D NumPy array with 2 rows and 4 columns\n",
        "array_2d = np.array([[1, 2, 3, 4],\n",
        "                     [5, 6, 7, 8]])\n",
        "\n",
        "# Calculate the sum of each row\n",
        "row_sums = array_2d.sum(axis=1)\n",
        "\n",
        "print(\"2D Array:\\n\", array_2d)\n",
        "print(\"Sum of each row:\", row_sums)\n"
      ],
      "metadata": {
        "id": "upZfXoti_DN3",
        "colab": {
          "base_uri": "https://localhost:8080/"
        },
        "outputId": "caee7c78-c4cf-4d63-fc35-43ad444e33ab"
      },
      "execution_count": 12,
      "outputs": [
        {
          "output_type": "stream",
          "name": "stdout",
          "text": [
            "2D Array:\n",
            " [[1 2 3 4]\n",
            " [5 6 7 8]]\n",
            "Sum of each row: [10 26]\n"
          ]
        }
      ]
    },
    {
      "cell_type": "markdown",
      "source": [
        "2. Write a Pandas script to find the mean of a specific column in a DataFrame."
      ],
      "metadata": {
        "id": "ZAyhyZGm_Dd-"
      }
    },
    {
      "cell_type": "code",
      "metadata": {
        "id": "7f246be6",
        "colab": {
          "base_uri": "https://localhost:8080/"
        },
        "outputId": "50284b83-4d11-4b9e-f389-bca9d2f0a116"
      },
      "source": [
        "import pandas as pd\n",
        "\n",
        "# Create a sample DataFrame\n",
        "data = {'col1': [1, 2, 3, 4, 5],\n",
        "        'col2': [10, 20, 30, 40, 50]}\n",
        "df = pd.DataFrame(data)\n",
        "\n",
        "# Specify the column name\n",
        "column_name = 'col1'\n",
        "\n",
        "# Calculate the mean of the specific column\n",
        "column_mean = df[column_name].mean()\n",
        "\n",
        "print(f\"DataFrame:\\n{df}\")\n",
        "print(f\"\\nMean of column '{column_name}': {column_mean}\")"
      ],
      "execution_count": 13,
      "outputs": [
        {
          "output_type": "stream",
          "name": "stdout",
          "text": [
            "DataFrame:\n",
            "   col1  col2\n",
            "0     1    10\n",
            "1     2    20\n",
            "2     3    30\n",
            "3     4    40\n",
            "4     5    50\n",
            "\n",
            "Mean of column 'col1': 3.0\n"
          ]
        }
      ]
    },
    {
      "cell_type": "markdown",
      "source": [
        "3. Create a scatter plot using Matplotlib."
      ],
      "metadata": {
        "id": "svqNtl1o_EOf"
      }
    },
    {
      "cell_type": "code",
      "metadata": {
        "id": "f31cea1f",
        "colab": {
          "base_uri": "https://localhost:8080/",
          "height": 472
        },
        "outputId": "5855ef59-dc00-4c59-ce8a-7fcc37306444"
      },
      "source": [
        "import matplotlib.pyplot as plt\n",
        "import numpy as np\n",
        "\n",
        "# Generate some sample data\n",
        "x = np.random.rand(50)\n",
        "y = np.random.rand(50)\n",
        "\n",
        "# Create a scatter plot\n",
        "plt.scatter(x, y)\n",
        "\n",
        "# Add labels and title\n",
        "plt.xlabel(\"X-axis\")\n",
        "plt.ylabel(\"Y-axis\")\n",
        "plt.title(\"Scatter Plot using Matplotlib\")\n",
        "\n",
        "# Display the plot\n",
        "plt.show()"
      ],
      "execution_count": 14,
      "outputs": [
        {
          "output_type": "display_data",
          "data": {
            "text/plain": [
              "<Figure size 640x480 with 1 Axes>"
            ],
            "image/png": "[encoded data removed]"
          },
          "metadata": {}
        }
      ]
    },
    {
      "cell_type": "markdown",
      "source": [
        "4. How do you calculate the correlation matrix using Seaborn and visualize it with a heatmap."
      ],
      "metadata": {
        "id": "Q_vRUGM2_Es6"
      }
    },
    {
      "cell_type": "code",
      "metadata": {
        "id": "06d3d2a9",
        "colab": {
          "base_uri": "https://localhost:8080/",
          "height": 545
        },
        "outputId": "77f686a0-c48f-4bef-fe91-9133af10193e"
      },
      "source": [
        "import pandas as pd\n",
        "import seaborn as sns\n",
        "import matplotlib.pyplot as plt\n",
        "\n",
        "# Create a sample DataFrame\n",
        "data = {'col1': [1, 2, 3, 4, 5],\n",
        "        'col2': [10, 20, 30, 40, 50],\n",
        "        'col3': [5, 4, 3, 2, 1],\n",
        "        'col4': [100, 50, 75, 25, 125]}\n",
        "df = pd.DataFrame(data)\n",
        "\n",
        "# Calculate the correlation matrix\n",
        "correlation_matrix = df.corr()\n",
        "\n",
        "# Visualize the correlation matrix with a heatmap\n",
        "plt.figure(figsize=(8, 6))\n",
        "sns.heatmap(correlation_matrix, annot=True, cmap='coolwarm', fmt=\".2f\")\n",
        "plt.title(\"Correlation Matrix Heatmap\")\n",
        "plt.show()"
      ],
      "execution_count": 15,
      "outputs": [
        {
          "output_type": "display_data",
          "data": {
            "text/plain": [
              "<Figure size 800x600 with 2 Axes>"
            ],
            "image/png": "[encoded data removed]"
          },
          "metadata": {}
        }
      ]
    },
    {
      "cell_type": "markdown",
      "source": [
        "5. Generate a bar plot using Plotly."
      ],
      "metadata": {
        "id": "t7WUJSVq_FGK"
      }
    },
    {
      "cell_type": "code",
      "metadata": {
        "colab": {
          "base_uri": "https://localhost:8080/",
          "height": 542
        },
        "id": "87b650ac",
        "outputId": "d859dac6-4eea-4b54-c853-50b170d1ae86"
      },
      "source": [
        "import plotly.express as px\n",
        "import pandas as pd\n",
        "\n",
        "# Create a sample DataFrame\n",
        "data = {'Category': ['A', 'B', 'C', 'D'],\n",
        "        'Values': [10, 25, 15, 30]}\n",
        "df = pd.DataFrame(data)\n",
        "\n",
        "# Create a bar plot using Plotly Express\n",
        "fig = px.bar(df, x='Category', y='Values', title='Sample Bar Plot with Plotly')\n",
        "\n",
        "# Show the plot\n",
        "fig.show()"
      ],
      "execution_count": 16,
      "outputs": [
        {
          "output_type": "display_data",
          "data": {
            "text/html": [
              "<html>\n",
              "<head><meta charset=\"utf-8\" /></head>\n",
              "<body>\n",
              "    <div>            <script src=\"https://cdnjs.cloudflare.com/ajax/libs/mathjax/2.7.5/MathJax.js?config=TeX-AMS-MML_SVG\"></script><script type=\"text/javascript\">if (window.MathJax && window.MathJax.Hub && window.MathJax.Hub.Config) {window.MathJax.Hub.Config({SVG: {font: \"STIX-Web\"}});}</script>                <script type=\"text/javascript\">window.PlotlyConfig = {MathJaxConfig: 'local'};</script>\n",
              "        <script charset=\"utf-8\" src=\"https://cdn.plot.ly/plotly-2.35.2.min.js\"></script>                <div id=\"e12ea40a-68c8-4533-aca7-a617a9379489\" class=\"plotly-graph-div\" style=\"height:525px; width:100%;\"></div>            <script type=\"text/javascript\">                                    window.PLOTLYENV=window.PLOTLYENV || {};                                    if (document.getElementById(\"e12ea40a-68c8-4533-aca7-a617a9379489\")) {                    Plotly.newPlot(                        \"e12ea40a-68c8-4533-aca7-a617a9379489\",                        [{\"alignmentgroup\":\"True\",\"hovertemplate\":\"Category=%{x}\\u003cbr\\u003eValues=%{y}\\u003cextra\\u003e\\u003c\\u002fextra\\u003e\",\"legendgroup\":\"\",\"marker\":{\"color\":\"#636efa\",\"pattern\":{\"shape\":\"\"}},\"name\":\"\",\"offsetgroup\":\"\",\"orientation\":\"v\",\"showlegend\":false,\"textposition\":\"auto\",\"x\":[\"A\",\"B\",\"C\",\"D\"],\"xaxis\":\"x\",\"y\":[10,25,15,30],\"yaxis\":\"y\",\"type\":\"bar\"}],                        {\"template\":{\"data\":{\"histogram2dcontour\":[{\"type\":\"histogram2dcontour\",\"colorbar\":{\"outlinewidth\":0,\"ticks\":\"\"},\"colorscale\":[[0.0,\"#0d0887\"],[0.1111111111111111,\"#46039f\"],[0.2222222222222222,\"#7201a8\"],[0.3333333333333333,\"#9c179e\"],[0.4444444444444444,\"#bd3786\"],[0.5555555555555556,\"#d8576b\"],[0.6666666666666666,\"#ed7953\"],[0.7777777777777778,\"#fb9f3a\"],[0.8888888888888888,\"#fdca26\"],[1.0,\"#f0f921\"]]}],\"choropleth\":[{\"type\":\"choropleth\",\"colorbar\":{\"outlinewidth\":0,\"ticks\":\"\"}}],\"histogram2d\":[{\"type\":\"histogram2d\",\"colorbar\":{\"outlinewidth\":0,\"ticks\":\"\"},\"colorscale\":[[0.0,\"#0d0887\"],[0.1111111111111111,\"#46039f\"],[0.2222222222222222,\"#7201a8\"],[0.3333333333333333,\"#9c179e\"],[0.4444444444444444,\"#bd3786\"],[0.5555555555555556,\"#d8576b\"],[0.6666666666666666,\"#ed7953\"],[0.7777777777777778,\"#fb9f3a\"],[0.8888888888888888,\"#fdca26\"],[1.0,\"#f0f921\"]]}],\"heatmap\":[{\"type\":\"heatmap\",\"colorbar\":{\"outlinewidth\":0,\"ticks\":\"\"},\"colorscale\":[[0.0,\"#0d0887\"],[0.1111111111111111,\"#46039f\"],[0.2222222222222222,\"#7201a8\"],[0.3333333333333333,\"#9c179e\"],[0.4444444444444444,\"#bd3786\"],[0.5555555555555556,\"#d8576b\"],[0.6666666666666666,\"#ed7953\"],[0.7777777777777778,\"#fb9f3a\"],[0.8888888888888888,\"#fdca26\"],[1.0,\"#f0f921\"]]}],\"heatmapgl\":[{\"type\":\"heatmapgl\",\"colorbar\":{\"outlinewidth\":0,\"ticks\":\"\"},\"colorscale\":[[0.0,\"#0d0887\"],[0.1111111111111111,\"#46039f\"],[0.2222222222222222,\"#7201a8\"],[0.3333333333333333,\"#9c179e\"],[0.4444444444444444,\"#bd3786\"],[0.5555555555555556,\"#d8576b\"],[0.6666666666666666,\"#ed7953\"],[0.7777777777777778,\"#fb9f3a\"],[0.8888888888888888,\"#fdca26\"],[1.0,\"#f0f921\"]]}],\"contourcarpet\":[{\"type\":\"contourcarpet\",\"colorbar\":{\"outlinewidth\":0,\"ticks\":\"\"}}],\"contour\":[{\"type\":\"contour\",\"colorbar\":{\"outlinewidth\":0,\"ticks\":\"\"},\"colorscale\":[[0.0,\"#0d0887\"],[0.1111111111111111,\"#46039f\"],[0.2222222222222222,\"#7201a8\"],[0.3333333333333333,\"#9c179e\"],[0.4444444444444444,\"#bd3786\"],[0.5555555555555556,\"#d8576b\"],[0.6666666666666666,\"#ed7953\"],[0.7777777777777778,\"#fb9f3a\"],[0.8888888888888888,\"#fdca26\"],[1.0,\"#f0f921\"]]}],\"surface\":[{\"type\":\"surface\",\"colorbar\":{\"outlinewidth\":0,\"ticks\":\"\"},\"colorscale\":[[0.0,\"#0d0887\"],[0.1111111111111111,\"#46039f\"],[0.2222222222222222,\"#7201a8\"],[0.3333333333333333,\"#9c179e\"],[0.4444444444444444,\"#bd3786\"],[0.5555555555555556,\"#d8576b\"],[0.6666666666666666,\"#ed7953\"],[0.7777777777777778,\"#fb9f3a\"],[0.8888888888888888,\"#fdca26\"],[1.0,\"#f0f921\"]]}],\"mesh3d\":[{\"type\":\"mesh3d\",\"colorbar\":{\"outlinewidth\":0,\"ticks\":\"\"}}],\"scatter\":[{\"fillpattern\":{\"fillmode\":\"overlay\",\"size\":10,\"solidity\":0.2},\"type\":\"scatter\"}],\"parcoords\":[{\"type\":\"parcoords\",\"line\":{\"colorbar\":{\"outlinewidth\":0,\"ticks\":\"\"}}}],\"scatterpolargl\":[{\"type\":\"scatterpolargl\",\"marker\":{\"colorbar\":{\"outlinewidth\":0,\"ticks\":\"\"}}}],\"bar\":[{\"error_x\":{\"color\":\"#2a3f5f\"},\"error_y\":{\"color\":\"#2a3f5f\"},\"marker\":{\"line\":{\"color\":\"#E5ECF6\",\"width\":0.5},\"pattern\":{\"fillmode\":\"overlay\",\"size\":10,\"solidity\":0.2}},\"type\":\"bar\"}],\"scattergeo\":[{\"type\":\"scattergeo\",\"marker\":{\"colorbar\":{\"outlinewidth\":0,\"ticks\":\"\"}}}],\"scatterpolar\":[{\"type\":\"scatterpolar\",\"marker\":{\"colorbar\":{\"outlinewidth\":0,\"ticks\":\"\"}}}],\"histogram\":[{\"marker\":{\"pattern\":{\"fillmode\":\"overlay\",\"size\":10,\"solidity\":0.2}},\"type\":\"histogram\"}],\"scattergl\":[{\"type\":\"scattergl\",\"marker\":{\"colorbar\":{\"outlinewidth\":0,\"ticks\":\"\"}}}],\"scatter3d\":[{\"type\":\"scatter3d\",\"line\":{\"colorbar\":{\"outlinewidth\":0,\"ticks\":\"\"}},\"marker\":{\"colorbar\":{\"outlinewidth\":0,\"ticks\":\"\"}}}],\"scattermapbox\":[{\"type\":\"scattermapbox\",\"marker\":{\"colorbar\":{\"outlinewidth\":0,\"ticks\":\"\"}}}],\"scatterternary\":[{\"type\":\"scatterternary\",\"marker\":{\"colorbar\":{\"outlinewidth\":0,\"ticks\":\"\"}}}],\"scattercarpet\":[{\"type\":\"scattercarpet\",\"marker\":{\"colorbar\":{\"outlinewidth\":0,\"ticks\":\"\"}}}],\"carpet\":[{\"aaxis\":{\"endlinecolor\":\"#2a3f5f\",\"gridcolor\":\"white\",\"linecolor\":\"white\",\"minorgridcolor\":\"white\",\"startlinecolor\":\"#2a3f5f\"},\"baxis\":{\"endlinecolor\":\"#2a3f5f\",\"gridcolor\":\"white\",\"linecolor\":\"white\",\"minorgridcolor\":\"white\",\"startlinecolor\":\"#2a3f5f\"},\"type\":\"carpet\"}],\"table\":[{\"cells\":{\"fill\":{\"color\":\"#EBF0F8\"},\"line\":{\"color\":\"white\"}},\"header\":{\"fill\":{\"color\":\"#C8D4E3\"},\"line\":{\"color\":\"white\"}},\"type\":\"table\"}],\"barpolar\":[{\"marker\":{\"line\":{\"color\":\"#E5ECF6\",\"width\":0.5},\"pattern\":{\"fillmode\":\"overlay\",\"size\":10,\"solidity\":0.2}},\"type\":\"barpolar\"}],\"pie\":[{\"automargin\":true,\"type\":\"pie\"}]},\"layout\":{\"autotypenumbers\":\"strict\",\"colorway\":[\"#636efa\",\"#EF553B\",\"#00cc96\",\"#ab63fa\",\"#FFA15A\",\"#19d3f3\",\"#FF6692\",\"#B6E880\",\"#FF97FF\",\"#FECB52\"],\"font\":{\"color\":\"#2a3f5f\"},\"hovermode\":\"closest\",\"hoverlabel\":{\"align\":\"left\"},\"paper_bgcolor\":\"white\",\"plot_bgcolor\":\"#E5ECF6\",\"polar\":{\"bgcolor\":\"#E5ECF6\",\"angularaxis\":{\"gridcolor\":\"white\",\"linecolor\":\"white\",\"ticks\":\"\"},\"radialaxis\":{\"gridcolor\":\"white\",\"linecolor\":\"white\",\"ticks\":\"\"}},\"ternary\":{\"bgcolor\":\"#E5ECF6\",\"aaxis\":{\"gridcolor\":\"white\",\"linecolor\":\"white\",\"ticks\":\"\"},\"baxis\":{\"gridcolor\":\"white\",\"linecolor\":\"white\",\"ticks\":\"\"},\"caxis\":{\"gridcolor\":\"white\",\"linecolor\":\"white\",\"ticks\":\"\"}},\"coloraxis\":{\"colorbar\":{\"outlinewidth\":0,\"ticks\":\"\"}},\"colorscale\":{\"sequential\":[[0.0,\"#0d0887\"],[0.1111111111111111,\"#46039f\"],[0.2222222222222222,\"#7201a8\"],[0.3333333333333333,\"#9c179e\"],[0.4444444444444444,\"#bd3786\"],[0.5555555555555556,\"#d8576b\"],[0.6666666666666666,\"#ed7953\"],[0.7777777777777778,\"#fb9f3a\"],[0.8888888888888888,\"#fdca26\"],[1.0,\"#f0f921\"]],\"sequentialminus\":[[0.0,\"#0d0887\"],[0.1111111111111111,\"#46039f\"],[0.2222222222222222,\"#7201a8\"],[0.3333333333333333,\"#9c179e\"],[0.4444444444444444,\"#bd3786\"],[0.5555555555555556,\"#d8576b\"],[0.6666666666666666,\"#ed7953\"],[0.7777777777777778,\"#fb9f3a\"],[0.8888888888888888,\"#fdca26\"],[1.0,\"#f0f921\"]],\"diverging\":[[0,\"#8e0152\"],[0.1,\"#c51b7d\"],[0.2,\"#de77ae\"],[0.3,\"#f1b6da\"],[0.4,\"#fde0ef\"],[0.5,\"#f7f7f7\"],[0.6,\"#e6f5d0\"],[0.7,\"#b8e186\"],[0.8,\"#7fbc41\"],[0.9,\"#4d9221\"],[1,\"#276419\"]]},\"xaxis\":{\"gridcolor\":\"white\",\"linecolor\":\"white\",\"ticks\":\"\",\"title\":{\"standoff\":15},\"zerolinecolor\":\"white\",\"automargin\":true,\"zerolinewidth\":2},\"yaxis\":{\"gridcolor\":\"white\",\"linecolor\":\"white\",\"ticks\":\"\",\"title\":{\"standoff\":15},\"zerolinecolor\":\"white\",\"automargin\":true,\"zerolinewidth\":2},\"scene\":{\"xaxis\":{\"backgroundcolor\":\"#E5ECF6\",\"gridcolor\":\"white\",\"linecolor\":\"white\",\"showbackground\":true,\"ticks\":\"\",\"zerolinecolor\":\"white\",\"gridwidth\":2},\"yaxis\":{\"backgroundcolor\":\"#E5ECF6\",\"gridcolor\":\"white\",\"linecolor\":\"white\",\"showbackground\":true,\"ticks\":\"\",\"zerolinecolor\":\"white\",\"gridwidth\":2},\"zaxis\":{\"backgroundcolor\":\"#E5ECF6\",\"gridcolor\":\"white\",\"linecolor\":\"white\",\"showbackground\":true,\"ticks\":\"\",\"zerolinecolor\":\"white\",\"gridwidth\":2}},\"shapedefaults\":{\"line\":{\"color\":\"#2a3f5f\"}},\"annotationdefaults\":{\"arrowcolor\":\"#2a3f5f\",\"arrowhead\":0,\"arrowwidth\":1},\"geo\":{\"bgcolor\":\"white\",\"landcolor\":\"#E5ECF6\",\"subunitcolor\":\"white\",\"showland\":true,\"showlakes\":true,\"lakecolor\":\"white\"},\"title\":{\"x\":0.05},\"mapbox\":{\"style\":\"light\"}}},\"xaxis\":{\"anchor\":\"y\",\"domain\":[0.0,1.0],\"title\":{\"text\":\"Category\"}},\"yaxis\":{\"anchor\":\"x\",\"domain\":[0.0,1.0],\"title\":{\"text\":\"Values\"}},\"legend\":{\"tracegroupgap\":0},\"title\":{\"text\":\"Sample Bar Plot with Plotly\"},\"barmode\":\"relative\"},                        {\"responsive\": true}                    ).then(function(){\n",
              "                            \n",
              "var gd = document.getElementById('e12ea40a-68c8-4533-aca7-a617a9379489');\n",
              "var x = new MutationObserver(function (mutations, observer) {{\n",
              "        var display = window.getComputedStyle(gd).display;\n",
              "        if (!display || display === 'none') {{\n",
              "            console.log([gd, 'removed!']);\n",
              "            Plotly.purge(gd);\n",
              "            observer.disconnect();\n",
              "        }}\n",
              "}});\n",
              "\n",
              "// Listen for the removal of the full notebook cells\n",
              "var notebookContainer = gd.closest('#notebook-container');\n",
              "if (notebookContainer) {{\n",
              "    x.observe(notebookContainer, {childList: true});\n",
              "}}\n",
              "\n",
              "// Listen for the clearing of the current output cell\n",
              "var outputEl = gd.closest('.output');\n",
              "if (outputEl) {{\n",
              "    x.observe(outputEl, {childList: true});\n",
              "}}\n",
              "\n",
              "                        })                };                            </script>        </div>\n",
              "</body>\n",
              "</html>"
            ]
          },
          "metadata": {}
        }
      ]
    },
    {
      "cell_type": "markdown",
      "source": [
        "6.  Create a DataFrame and add a new column based on an existing column."
      ],
      "metadata": {
        "id": "lw1LNSSe_Fe1"
      }
    },
    {
      "cell_type": "code",
      "metadata": {
        "colab": {
          "base_uri": "https://localhost:8080/"
        },
        "id": "f46e36ba",
        "outputId": "917ea868-44f0-451d-af42-8c0cac1c661a"
      },
      "source": [
        "import pandas as pd\n",
        "\n",
        "# Create a sample DataFrame\n",
        "data = {'col1': [1, 2, 3, 4, 5],\n",
        "        'col2': [10, 20, 30, 40, 50]}\n",
        "df = pd.DataFrame(data)\n",
        "\n",
        "# Add a new column 'col3' which is the sum of 'col1' and 'col2'\n",
        "df['col3'] = df['col1'] + df['col2']\n",
        "\n",
        "print(\"DataFrame with new column:\\n\", df)"
      ],
      "execution_count": 17,
      "outputs": [
        {
          "output_type": "stream",
          "name": "stdout",
          "text": [
            "DataFrame with new column:\n",
            "    col1  col2  col3\n",
            "0     1    10    11\n",
            "1     2    20    22\n",
            "2     3    30    33\n",
            "3     4    40    44\n",
            "4     5    50    55\n"
          ]
        }
      ]
    },
    {
      "cell_type": "markdown",
      "source": [
        "7. Write a program to perform element-wise multiplication of two NumPy arrays."
      ],
      "metadata": {
        "id": "vW7MoBvUEEWg"
      }
    },
    {
      "cell_type": "code",
      "source": [
        "import numpy as np\n",
        "\n",
        "# Define two NumPy arrays\n",
        "arr1 = np.array([2, 4, 6, 8, 1])\n",
        "arr2 = np.array([3, 5, 7, 9, 2])\n",
        "\n",
        "# Element-wise multiplication using * operator\n",
        "result1 = arr1 * arr2\n",
        "\n",
        "# Element-wise multiplication using numpy.multiply()\n",
        "result2 = np.multiply(arr1, arr2)\n",
        "\n",
        "print(\"Result using * operator:\", result1)\n",
        "print(\"Result using numpy.multiply():\", result2)\n"
      ],
      "metadata": {
        "colab": {
          "base_uri": "https://localhost:8080/"
        },
        "id": "-Fp2pSjfFByV",
        "outputId": "f9541542-d63a-4b2e-f55b-670d63a25f02"
      },
      "execution_count": 18,
      "outputs": [
        {
          "output_type": "stream",
          "name": "stdout",
          "text": [
            "Result using * operator: [ 6 20 42 72  2]\n",
            "Result using numpy.multiply(): [ 6 20 42 72  2]\n"
          ]
        }
      ]
    },
    {
      "cell_type": "markdown",
      "source": [
        "8. Create a line plot with multiple lines using Matplotlib."
      ],
      "metadata": {
        "id": "LRF6z0B8FDvZ"
      }
    },
    {
      "cell_type": "code",
      "metadata": {
        "colab": {
          "base_uri": "https://localhost:8080/",
          "height": 472
        },
        "id": "2b039fd7",
        "outputId": "d7a47f21-070a-4b62-ca36-856efbfa0fea"
      },
      "source": [
        "import matplotlib.pyplot as plt\n",
        "import numpy as np\n",
        "\n",
        "# Generate sample data for multiple lines\n",
        "x = np.array([1, 2, 3, 4, 5])\n",
        "y1 = np.array([2, 3, 5, 7, 11])\n",
        "y2 = np.array([1, 4, 6, 8, 10])\n",
        "y3 = np.array([5, 2, 8, 3, 9])\n",
        "\n",
        "# Create the line plot with multiple lines\n",
        "plt.plot(x, y1, label='Line 1')\n",
        "plt.plot(x, y2, label='Line 2')\n",
        "plt.plot(x, y3, label='Line 3')\n",
        "\n",
        "# Add labels, title, and legend\n",
        "plt.xlabel(\"X-axis\")\n",
        "plt.ylabel(\"Y-axis\")\n",
        "plt.title(\"Line Plot with Multiple Lines using Matplotlib\")\n",
        "plt.legend()\n",
        "\n",
        "# Display the plot\n",
        "plt.show()"
      ],
      "execution_count": 19,
      "outputs": [
        {
          "output_type": "display_data",
          "data": {
            "text/plain": [
              "<Figure size 640x480 with 1 Axes>"
            ],
            "image/png": "[encoded data removed]"
          },
          "metadata": {}
        }
      ]
    },
    {
      "cell_type": "markdown",
      "source": [
        "9. Generate a Pandas DataFrame and filter rows where a column value is greater than a threshold."
      ],
      "metadata": {
        "id": "gZWbDnBXFSm7"
      }
    },
    {
      "cell_type": "code",
      "metadata": {
        "colab": {
          "base_uri": "https://localhost:8080/"
        },
        "id": "9ff56883",
        "outputId": "4ab3400a-360c-4a94-937f-281008916d22"
      },
      "source": [
        "import pandas as pd\n",
        "\n",
        "# Create a sample DataFrame\n",
        "data = {'col1': [10, 25, 15, 30, 5],\n",
        "        'col2': ['A', 'B', 'C', 'D', 'E']}\n",
        "df = pd.DataFrame(data)\n",
        "\n",
        "# Define the threshold\n",
        "threshold = 20\n",
        "\n",
        "# Filter rows where 'col1' is greater than the threshold\n",
        "filtered_df = df[df['col1'] > threshold]\n",
        "\n",
        "print(\"Original DataFrame:\\n\", df)\n",
        "print(f\"\\nDataFrame filtered where 'col1' > {threshold}:\\n\", filtered_df)"
      ],
      "execution_count": 20,
      "outputs": [
        {
          "output_type": "stream",
          "name": "stdout",
          "text": [
            "Original DataFrame:\n",
            "    col1 col2\n",
            "0    10    A\n",
            "1    25    B\n",
            "2    15    C\n",
            "3    30    D\n",
            "4     5    E\n",
            "\n",
            "DataFrame filtered where 'col1' > 20:\n",
            "    col1 col2\n",
            "1    25    B\n",
            "3    30    D\n"
          ]
        }
      ]
    },
    {
      "cell_type": "markdown",
      "source": [
        "10. Create a histogram using Seaborn to visualize a distribution."
      ],
      "metadata": {
        "id": "vQHyeZunFS8W"
      }
    },
    {
      "cell_type": "code",
      "metadata": {
        "colab": {
          "base_uri": "https://localhost:8080/",
          "height": 472
        },
        "id": "7d2d1bc0",
        "outputId": "9c27377a-1288-42f7-d6a4-1a3be1afd497"
      },
      "source": [
        "import seaborn as sns\n",
        "import matplotlib.pyplot as plt\n",
        "import numpy as np\n",
        "\n",
        "# Generate some sample data\n",
        "data = np.random.randn(1000)\n",
        "\n",
        "# Create a histogram using Seaborn\n",
        "sns.histplot(data, kde=True)\n",
        "\n",
        "# Add title and labels\n",
        "plt.title(\"Histogram using Seaborn\")\n",
        "plt.xlabel(\"Value\")\n",
        "plt.ylabel(\"Frequency\")\n",
        "\n",
        "# Display the plot\n",
        "plt.show()"
      ],
      "execution_count": 21,
      "outputs": [
        {
          "output_type": "display_data",
          "data": {
            "text/plain": [
              "<Figure size 640x480 with 1 Axes>"
            ],
            "image/png": "[encoded data removed]"
          },
          "metadata": {}
        }
      ]
    },
    {
      "cell_type": "markdown",
      "source": [
        "11. Perform matrix multiplication using NumPy."
      ],
      "metadata": {
        "id": "CU92M5DVFTMQ"
      }
    },
    {
      "cell_type": "code",
      "metadata": {
        "colab": {
          "base_uri": "https://localhost:8080/"
        },
        "id": "996c2e6d",
        "outputId": "611228d4-c078-4c88-fc92-d8d31a8444e5"
      },
      "source": [
        "import numpy as np\n",
        "\n",
        "# Create two sample NumPy matrices\n",
        "matrix1 = np.array([[1, 2],\n",
        "                    [3, 4]])\n",
        "\n",
        "matrix2 = np.array([[5, 6],\n",
        "                    [7, 8]])\n",
        "\n",
        "# Perform matrix multiplication using the @ operator\n",
        "result_matrix = matrix1 @ matrix2\n",
        "\n",
        "print(\"Matrix 1:\\n\", matrix1)\n",
        "print(\"\\nMatrix 2:\\n\", matrix2)\n",
        "print(\"\\nResult of matrix multiplication:\\n\", result_matrix)"
      ],
      "execution_count": 22,
      "outputs": [
        {
          "output_type": "stream",
          "name": "stdout",
          "text": [
            "Matrix 1:\n",
            " [[1 2]\n",
            " [3 4]]\n",
            "\n",
            "Matrix 2:\n",
            " [[5 6]\n",
            " [7 8]]\n",
            "\n",
            "Result of matrix multiplication:\n",
            " [[19 22]\n",
            " [43 50]]\n"
          ]
        }
      ]
    },
    {
      "cell_type": "markdown",
      "source": [
        "12. Use Pandas to load a CSV file and display its first 5 rows."
      ],
      "metadata": {
        "id": "flKq81C8FTPB"
      }
    },
    {
      "cell_type": "code",
      "metadata": {
        "colab": {
          "base_uri": "https://localhost:8080/"
        },
        "id": "51beba4a",
        "outputId": "8dff4b14-799b-43f4-f4e0-2b374f3ac11b"
      },
      "source": [
        "import pandas as pd\n",
        "\n",
        "# Load the CSV file into a DataFrame (replace 'your_file.csv' with your file path)\n",
        "try:\n",
        "    df = pd.read_csv('your_file.csv')\n",
        "\n",
        "    # Display the first 5 rows\n",
        "    print(\"First 5 rows of the DataFrame:\")\n",
        "    print(df.head())\n",
        "\n",
        "except FileNotFoundError:\n",
        "    print(\"Error: 'your_file.csv' not found. Please replace it with the correct file path.\")\n",
        "    print(\"Creating a sample DataFrame instead.\")\n",
        "    # Create a sample DataFrame if the file is not found\n",
        "    data = {'col1': [1, 2, 3, 4, 5, 6, 7, 8, 9, 10],\n",
        "            'col2': ['A', 'B', 'C', 'D', 'E', 'F', 'G', 'H', 'I', 'J']}\n",
        "    df = pd.DataFrame(data)\n",
        "    print(\"Sample DataFrame:\")\n",
        "    print(df.head())"
      ],
      "execution_count": 23,
      "outputs": [
        {
          "output_type": "stream",
          "name": "stdout",
          "text": [
            "Error: 'your_file.csv' not found. Please replace it with the correct file path.\n",
            "Creating a sample DataFrame instead.\n",
            "Sample DataFrame:\n",
            "   col1 col2\n",
            "0     1    A\n",
            "1     2    B\n",
            "2     3    C\n",
            "3     4    D\n",
            "4     5    E\n"
          ]
        }
      ]
    },
    {
      "cell_type": "markdown",
      "source": [
        "13. Create a 3D scatter plot using Plotly."
      ],
      "metadata": {
        "id": "KJ5mOtbRFTS2"
      }
    },
    {
      "cell_type": "code",
      "metadata": {
        "colab": {
          "base_uri": "https://localhost:8080/",
          "height": 542
        },
        "id": "21ab1793",
        "outputId": "8a7adb21-9f4a-42fe-92bb-eb12a70de18a"
      },
      "source": [
        "import plotly.express as px\n",
        "import pandas as pd\n",
        "import numpy as np\n",
        "\n",
        "# Create a sample DataFrame with 3D data\n",
        "np.random.seed(42) # for reproducibility\n",
        "data = {'col1': np.random.rand(50),\n",
        "        'col2': np.random.rand(50),\n",
        "        'col3': np.random.rand(50),\n",
        "        'color_col': np.random.rand(50)} # Optional: add a column for color mapping\n",
        "\n",
        "df = pd.DataFrame(data)\n",
        "\n",
        "# Create a 3D scatter plot using Plotly Express\n",
        "fig = px.scatter_3d(df, x='col1', y='col2', z='col3',\n",
        "                    color='color_col', # Optional: color points by a column\n",
        "                    title='Sample 3D Scatter Plot with Plotly')\n",
        "\n",
        "# Show the plot\n",
        "fig.show()"
      ],
      "execution_count": 24,
      "outputs": [
        {
          "output_type": "display_data",
          "data": {
            "text/html": [
              "<html>\n",
              "<head><meta charset=\"utf-8\" /></head>\n",
              "<body>\n",
              "    <div>            <script src=\"https://cdnjs.cloudflare.com/ajax/libs/mathjax/2.7.5/MathJax.js?config=TeX-AMS-MML_SVG\"></script><script type=\"text/javascript\">if (window.MathJax && window.MathJax.Hub && window.MathJax.Hub.Config) {window.MathJax.Hub.Config({SVG: {font: \"STIX-Web\"}});}</script>                <script type=\"text/javascript\">window.PlotlyConfig = {MathJaxConfig: 'local'};</script>\n",
              "        <script charset=\"utf-8\" src=\"https://cdn.plot.ly/plotly-2.35.2.min.js\"></script>                <div id=\"b0b361e5-7348-4790-9fd1-719f241b5fce\" class=\"plotly-graph-div\" style=\"height:525px; width:100%;\"></div>            <script type=\"text/javascript\">                                    window.PLOTLYENV=window.PLOTLYENV || {};                                    if (document.getElementById(\"b0b361e5-7348-4790-9fd1-719f241b5fce\")) {                    Plotly.newPlot(                        \"b0b361e5-7348-4790-9fd1-719f241b5fce\",                        [{\"hovertemplate\":\"col1=%{x}\\u003cbr\\u003ecol2=%{y}\\u003cbr\\u003ecol3=%{z}\\u003cbr\\u003ecolor_col=%{marker.color}\\u003cextra\\u003e\\u003c\\u002fextra\\u003e\",\"legendgroup\":\"\",\"marker\":{\"color\":[0.9082658859666537,0.23956189066697242,0.1448948720912231,0.489452760277563,0.9856504541106007,0.2420552715115004,0.6721355474058786,0.7616196153287176,0.23763754399239967,0.7282163486118596,0.3677831327192532,0.6323058305935795,0.6335297107608947,0.5357746840747585,0.0902897700544083,0.835302495589238,0.32078006497173583,0.18651851039985423,0.040775141554763916,0.5908929431882418,0.6775643618422824,0.016587828927856152,0.512093058299281,0.22649577519793795,0.6451727904094499,0.17436642900499144,0.690937738102466,0.3867353463005374,0.9367299887367345,0.13752094414599325,0.3410663510502585,0.11347352124058907,0.9246936182785628,0.877339353380981,0.2579416277151556,0.659984046034179,0.8172222002012158,0.5552008115994623,0.5296505783560065,0.24185229090045168,0.09310276780589921,0.8972157579533268,0.9004180571633305,0.6331014572732679,0.3390297910487007,0.3492095746126609,0.7259556788702394,0.8971102599525771,0.8870864242651173,0.7798755458576239],\"coloraxis\":\"coloraxis\",\"symbol\":\"circle\"},\"mode\":\"markers\",\"name\":\"\",\"scene\":\"scene\",\"showlegend\":false,\"x\":[0.3745401188473625,0.9507143064099162,0.7319939418114051,0.5986584841970366,0.15601864044243652,0.15599452033620265,0.05808361216819946,0.8661761457749352,0.6011150117432088,0.7080725777960455,0.020584494295802447,0.9699098521619943,0.8324426408004217,0.21233911067827616,0.18182496720710062,0.18340450985343382,0.3042422429595377,0.5247564316322378,0.43194501864211576,0.2912291401980419,0.6118528947223795,0.13949386065204183,0.29214464853521815,0.3663618432936917,0.45606998421703593,0.7851759613930136,0.19967378215835974,0.5142344384136116,0.5924145688620425,0.046450412719997725,0.6075448519014384,0.17052412368729153,0.06505159298527952,0.9488855372533332,0.9656320330745594,0.8083973481164611,0.3046137691733707,0.09767211400638387,0.6842330265121569,0.4401524937396013,0.12203823484477883,0.4951769101112702,0.034388521115218396,0.9093204020787821,0.2587799816000169,0.662522284353982,0.31171107608941095,0.5200680211778108,0.5467102793432796,0.18485445552552704],\"y\":[0.9695846277645586,0.7751328233611146,0.9394989415641891,0.8948273504276488,0.5978999788110851,0.9218742350231168,0.0884925020519195,0.1959828624191452,0.045227288910538066,0.32533033076326434,0.388677289689482,0.2713490317738959,0.8287375091519293,0.3567533266935893,0.28093450968738076,0.5426960831582485,0.14092422497476265,0.8021969807540397,0.07455064367977082,0.9868869366005173,0.7722447692966574,0.1987156815341724,0.005522117123602399,0.8154614284548342,0.7068573438476171,0.7290071680409873,0.7712703466859457,0.07404465173409036,0.3584657285442726,0.11586905952512971,0.8631034258755935,0.6232981268275579,0.3308980248526492,0.06355835028602363,0.3109823217156622,0.32518332202674705,0.7296061783380641,0.6375574713552131,0.8872127425763265,0.4722149251619493,0.1195942459383017,0.713244787222995,0.7607850486168974,0.5612771975694962,0.770967179954561,0.49379559636439074,0.5227328293819941,0.42754101835854963,0.02541912674409519,0.10789142699330445],\"z\":[0.03142918568673425,0.6364104112637804,0.3143559810763267,0.5085706911647028,0.907566473926093,0.24929222914887494,0.41038292303562973,0.7555511385430487,0.22879816549162246,0.07697990982879299,0.289751452913768,0.16122128725400442,0.9296976523425731,0.808120379564417,0.6334037565104235,0.8714605901877177,0.8036720768991145,0.18657005888603584,0.8925589984899778,0.5393422419156507,0.8074401551640625,0.8960912999234932,0.3180034749718639,0.11005192452767676,0.22793516254194168,0.4271077886262563,0.8180147659224931,0.8607305832563434,0.006952130531190703,0.5107473025775657,0.417411003148779,0.22210781047073025,0.1198653673336828,0.33761517140362796,0.9429097039125192,0.32320293202075523,0.5187906217433661,0.7030189588951778,0.363629602379294,0.9717820827209607,0.9624472949421112,0.25178229582536416,0.49724850589238545,0.30087830981676966,0.2848404943774676,0.036886947354532795,0.6095643339798968,0.5026790232288615,0.05147875124998935,0.27864646423661144],\"type\":\"scatter3d\"}],                        {\"template\":{\"data\":{\"histogram2dcontour\":[{\"type\":\"histogram2dcontour\",\"colorbar\":{\"outlinewidth\":0,\"ticks\":\"\"},\"colorscale\":[[0.0,\"#0d0887\"],[0.1111111111111111,\"#46039f\"],[0.2222222222222222,\"#7201a8\"],[0.3333333333333333,\"#9c179e\"],[0.4444444444444444,\"#bd3786\"],[0.5555555555555556,\"#d8576b\"],[0.6666666666666666,\"#ed7953\"],[0.7777777777777778,\"#fb9f3a\"],[0.8888888888888888,\"#fdca26\"],[1.0,\"#f0f921\"]]}],\"choropleth\":[{\"type\":\"choropleth\",\"colorbar\":{\"outlinewidth\":0,\"ticks\":\"\"}}],\"histogram2d\":[{\"type\":\"histogram2d\",\"colorbar\":{\"outlinewidth\":0,\"ticks\":\"\"},\"colorscale\":[[0.0,\"#0d0887\"],[0.1111111111111111,\"#46039f\"],[0.2222222222222222,\"#7201a8\"],[0.3333333333333333,\"#9c179e\"],[0.4444444444444444,\"#bd3786\"],[0.5555555555555556,\"#d8576b\"],[0.6666666666666666,\"#ed7953\"],[0.7777777777777778,\"#fb9f3a\"],[0.8888888888888888,\"#fdca26\"],[1.0,\"#f0f921\"]]}],\"heatmap\":[{\"type\":\"heatmap\",\"colorbar\":{\"outlinewidth\":0,\"ticks\":\"\"},\"colorscale\":[[0.0,\"#0d0887\"],[0.1111111111111111,\"#46039f\"],[0.2222222222222222,\"#7201a8\"],[0.3333333333333333,\"#9c179e\"],[0.4444444444444444,\"#bd3786\"],[0.5555555555555556,\"#d8576b\"],[0.6666666666666666,\"#ed7953\"],[0.7777777777777778,\"#fb9f3a\"],[0.8888888888888888,\"#fdca26\"],[1.0,\"#f0f921\"]]}],\"heatmapgl\":[{\"type\":\"heatmapgl\",\"colorbar\":{\"outlinewidth\":0,\"ticks\":\"\"},\"colorscale\":[[0.0,\"#0d0887\"],[0.1111111111111111,\"#46039f\"],[0.2222222222222222,\"#7201a8\"],[0.3333333333333333,\"#9c179e\"],[0.4444444444444444,\"#bd3786\"],[0.5555555555555556,\"#d8576b\"],[0.6666666666666666,\"#ed7953\"],[0.7777777777777778,\"#fb9f3a\"],[0.8888888888888888,\"#fdca26\"],[1.0,\"#f0f921\"]]}],\"contourcarpet\":[{\"type\":\"contourcarpet\",\"colorbar\":{\"outlinewidth\":0,\"ticks\":\"\"}}],\"contour\":[{\"type\":\"contour\",\"colorbar\":{\"outlinewidth\":0,\"ticks\":\"\"},\"colorscale\":[[0.0,\"#0d0887\"],[0.1111111111111111,\"#46039f\"],[0.2222222222222222,\"#7201a8\"],[0.3333333333333333,\"#9c179e\"],[0.4444444444444444,\"#bd3786\"],[0.5555555555555556,\"#d8576b\"],[0.6666666666666666,\"#ed7953\"],[0.7777777777777778,\"#fb9f3a\"],[0.8888888888888888,\"#fdca26\"],[1.0,\"#f0f921\"]]}],\"surface\":[{\"type\":\"surface\",\"colorbar\":{\"outlinewidth\":0,\"ticks\":\"\"},\"colorscale\":[[0.0,\"#0d0887\"],[0.1111111111111111,\"#46039f\"],[0.2222222222222222,\"#7201a8\"],[0.3333333333333333,\"#9c179e\"],[0.4444444444444444,\"#bd3786\"],[0.5555555555555556,\"#d8576b\"],[0.6666666666666666,\"#ed7953\"],[0.7777777777777778,\"#fb9f3a\"],[0.8888888888888888,\"#fdca26\"],[1.0,\"#f0f921\"]]}],\"mesh3d\":[{\"type\":\"mesh3d\",\"colorbar\":{\"outlinewidth\":0,\"ticks\":\"\"}}],\"scatter\":[{\"fillpattern\":{\"fillmode\":\"overlay\",\"size\":10,\"solidity\":0.2},\"type\":\"scatter\"}],\"parcoords\":[{\"type\":\"parcoords\",\"line\":{\"colorbar\":{\"outlinewidth\":0,\"ticks\":\"\"}}}],\"scatterpolargl\":[{\"type\":\"scatterpolargl\",\"marker\":{\"colorbar\":{\"outlinewidth\":0,\"ticks\":\"\"}}}],\"bar\":[{\"error_x\":{\"color\":\"#2a3f5f\"},\"error_y\":{\"color\":\"#2a3f5f\"},\"marker\":{\"line\":{\"color\":\"#E5ECF6\",\"width\":0.5},\"pattern\":{\"fillmode\":\"overlay\",\"size\":10,\"solidity\":0.2}},\"type\":\"bar\"}],\"scattergeo\":[{\"type\":\"scattergeo\",\"marker\":{\"colorbar\":{\"outlinewidth\":0,\"ticks\":\"\"}}}],\"scatterpolar\":[{\"type\":\"scatterpolar\",\"marker\":{\"colorbar\":{\"outlinewidth\":0,\"ticks\":\"\"}}}],\"histogram\":[{\"marker\":{\"pattern\":{\"fillmode\":\"overlay\",\"size\":10,\"solidity\":0.2}},\"type\":\"histogram\"}],\"scattergl\":[{\"type\":\"scattergl\",\"marker\":{\"colorbar\":{\"outlinewidth\":0,\"ticks\":\"\"}}}],\"scatter3d\":[{\"type\":\"scatter3d\",\"line\":{\"colorbar\":{\"outlinewidth\":0,\"ticks\":\"\"}},\"marker\":{\"colorbar\":{\"outlinewidth\":0,\"ticks\":\"\"}}}],\"scattermapbox\":[{\"type\":\"scattermapbox\",\"marker\":{\"colorbar\":{\"outlinewidth\":0,\"ticks\":\"\"}}}],\"scatterternary\":[{\"type\":\"scatterternary\",\"marker\":{\"colorbar\":{\"outlinewidth\":0,\"ticks\":\"\"}}}],\"scattercarpet\":[{\"type\":\"scattercarpet\",\"marker\":{\"colorbar\":{\"outlinewidth\":0,\"ticks\":\"\"}}}],\"carpet\":[{\"aaxis\":{\"endlinecolor\":\"#2a3f5f\",\"gridcolor\":\"white\",\"linecolor\":\"white\",\"minorgridcolor\":\"white\",\"startlinecolor\":\"#2a3f5f\"},\"baxis\":{\"endlinecolor\":\"#2a3f5f\",\"gridcolor\":\"white\",\"linecolor\":\"white\",\"minorgridcolor\":\"white\",\"startlinecolor\":\"#2a3f5f\"},\"type\":\"carpet\"}],\"table\":[{\"cells\":{\"fill\":{\"color\":\"#EBF0F8\"},\"line\":{\"color\":\"white\"}},\"header\":{\"fill\":{\"color\":\"#C8D4E3\"},\"line\":{\"color\":\"white\"}},\"type\":\"table\"}],\"barpolar\":[{\"marker\":{\"line\":{\"color\":\"#E5ECF6\",\"width\":0.5},\"pattern\":{\"fillmode\":\"overlay\",\"size\":10,\"solidity\":0.2}},\"type\":\"barpolar\"}],\"pie\":[{\"automargin\":true,\"type\":\"pie\"}]},\"layout\":{\"autotypenumbers\":\"strict\",\"colorway\":[\"#636efa\",\"#EF553B\",\"#00cc96\",\"#ab63fa\",\"#FFA15A\",\"#19d3f3\",\"#FF6692\",\"#B6E880\",\"#FF97FF\",\"#FECB52\"],\"font\":{\"color\":\"#2a3f5f\"},\"hovermode\":\"closest\",\"hoverlabel\":{\"align\":\"left\"},\"paper_bgcolor\":\"white\",\"plot_bgcolor\":\"#E5ECF6\",\"polar\":{\"bgcolor\":\"#E5ECF6\",\"angularaxis\":{\"gridcolor\":\"white\",\"linecolor\":\"white\",\"ticks\":\"\"},\"radialaxis\":{\"gridcolor\":\"white\",\"linecolor\":\"white\",\"ticks\":\"\"}},\"ternary\":{\"bgcolor\":\"#E5ECF6\",\"aaxis\":{\"gridcolor\":\"white\",\"linecolor\":\"white\",\"ticks\":\"\"},\"baxis\":{\"gridcolor\":\"white\",\"linecolor\":\"white\",\"ticks\":\"\"},\"caxis\":{\"gridcolor\":\"white\",\"linecolor\":\"white\",\"ticks\":\"\"}},\"coloraxis\":{\"colorbar\":{\"outlinewidth\":0,\"ticks\":\"\"}},\"colorscale\":{\"sequential\":[[0.0,\"#0d0887\"],[0.1111111111111111,\"#46039f\"],[0.2222222222222222,\"#7201a8\"],[0.3333333333333333,\"#9c179e\"],[0.4444444444444444,\"#bd3786\"],[0.5555555555555556,\"#d8576b\"],[0.6666666666666666,\"#ed7953\"],[0.7777777777777778,\"#fb9f3a\"],[0.8888888888888888,\"#fdca26\"],[1.0,\"#f0f921\"]],\"sequentialminus\":[[0.0,\"#0d0887\"],[0.1111111111111111,\"#46039f\"],[0.2222222222222222,\"#7201a8\"],[0.3333333333333333,\"#9c179e\"],[0.4444444444444444,\"#bd3786\"],[0.5555555555555556,\"#d8576b\"],[0.6666666666666666,\"#ed7953\"],[0.7777777777777778,\"#fb9f3a\"],[0.8888888888888888,\"#fdca26\"],[1.0,\"#f0f921\"]],\"diverging\":[[0,\"#8e0152\"],[0.1,\"#c51b7d\"],[0.2,\"#de77ae\"],[0.3,\"#f1b6da\"],[0.4,\"#fde0ef\"],[0.5,\"#f7f7f7\"],[0.6,\"#e6f5d0\"],[0.7,\"#b8e186\"],[0.8,\"#7fbc41\"],[0.9,\"#4d9221\"],[1,\"#276419\"]]},\"xaxis\":{\"gridcolor\":\"white\",\"linecolor\":\"white\",\"ticks\":\"\",\"title\":{\"standoff\":15},\"zerolinecolor\":\"white\",\"automargin\":true,\"zerolinewidth\":2},\"yaxis\":{\"gridcolor\":\"white\",\"linecolor\":\"white\",\"ticks\":\"\",\"title\":{\"standoff\":15},\"zerolinecolor\":\"white\",\"automargin\":true,\"zerolinewidth\":2},\"scene\":{\"xaxis\":{\"backgroundcolor\":\"#E5ECF6\",\"gridcolor\":\"white\",\"linecolor\":\"white\",\"showbackground\":true,\"ticks\":\"\",\"zerolinecolor\":\"white\",\"gridwidth\":2},\"yaxis\":{\"backgroundcolor\":\"#E5ECF6\",\"gridcolor\":\"white\",\"linecolor\":\"white\",\"showbackground\":true,\"ticks\":\"\",\"zerolinecolor\":\"white\",\"gridwidth\":2},\"zaxis\":{\"backgroundcolor\":\"#E5ECF6\",\"gridcolor\":\"white\",\"linecolor\":\"white\",\"showbackground\":true,\"ticks\":\"\",\"zerolinecolor\":\"white\",\"gridwidth\":2}},\"shapedefaults\":{\"line\":{\"color\":\"#2a3f5f\"}},\"annotationdefaults\":{\"arrowcolor\":\"#2a3f5f\",\"arrowhead\":0,\"arrowwidth\":1},\"geo\":{\"bgcolor\":\"white\",\"landcolor\":\"#E5ECF6\",\"subunitcolor\":\"white\",\"showland\":true,\"showlakes\":true,\"lakecolor\":\"white\"},\"title\":{\"x\":0.05},\"mapbox\":{\"style\":\"light\"}}},\"scene\":{\"domain\":{\"x\":[0.0,1.0],\"y\":[0.0,1.0]},\"xaxis\":{\"title\":{\"text\":\"col1\"}},\"yaxis\":{\"title\":{\"text\":\"col2\"}},\"zaxis\":{\"title\":{\"text\":\"col3\"}}},\"coloraxis\":{\"colorbar\":{\"title\":{\"text\":\"color_col\"}},\"colorscale\":[[0.0,\"#0d0887\"],[0.1111111111111111,\"#46039f\"],[0.2222222222222222,\"#7201a8\"],[0.3333333333333333,\"#9c179e\"],[0.4444444444444444,\"#bd3786\"],[0.5555555555555556,\"#d8576b\"],[0.6666666666666666,\"#ed7953\"],[0.7777777777777778,\"#fb9f3a\"],[0.8888888888888888,\"#fdca26\"],[1.0,\"#f0f921\"]]},\"legend\":{\"tracegroupgap\":0},\"title\":{\"text\":\"Sample 3D Scatter Plot with Plotly\"}},                        {\"responsive\": true}                    ).then(function(){\n",
              "                            \n",
              "var gd = document.getElementById('b0b361e5-7348-4790-9fd1-719f241b5fce');\n",
              "var x = new MutationObserver(function (mutations, observer) {{\n",
              "        var display = window.getComputedStyle(gd).display;\n",
              "        if (!display || display === 'none') {{\n",
              "            console.log([gd, 'removed!']);\n",
              "            Plotly.purge(gd);\n",
              "            observer.disconnect();\n",
              "        }}\n",
              "}});\n",
              "\n",
              "// Listen for the removal of the full notebook cells\n",
              "var notebookContainer = gd.closest('#notebook-container');\n",
              "if (notebookContainer) {{\n",
              "    x.observe(notebookContainer, {childList: true});\n",
              "}}\n",
              "\n",
              "// Listen for the clearing of the current output cell\n",
              "var outputEl = gd.closest('.output');\n",
              "if (outputEl) {{\n",
              "    x.observe(outputEl, {childList: true});\n",
              "}}\n",
              "\n",
              "                        })                };                            </script>        </div>\n",
              "</body>\n",
              "</html>"
            ]
          },
          "metadata": {}
        }
      ]
    }
  ]
}